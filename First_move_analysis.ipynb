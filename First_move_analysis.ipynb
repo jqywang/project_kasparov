{
 "cells": [
  {
   "cell_type": "code",
   "execution_count": 1,
   "metadata": {},
   "outputs": [],
   "source": [
    "import chess.pgn\n",
    "import pandas as pd\n",
    "import numpy as np\n",
    "import seaborn as sns\n",
    "import matplotlib.pyplot as plt\n",
    "import sklearn as skl\n",
    "import statsmodels.api as sm"
   ]
  },
  {
   "cell_type": "code",
   "execution_count": null,
   "metadata": {},
   "outputs": [],
   "source": [
    "path = '/Users/weiyutong/Documents/twic_chess_pgn_files/test_pgn.pgn'\n",
    "\n",
    "with open(path, 'r', encoding = 'utf-8', errors = 'ignore') as pgn_file:\n",
    "    for game in pgn_file:"
   ]
  },
  {
   "cell_type": "code",
   "execution_count": null,
   "metadata": {},
   "outputs": [],
   "source": [
    "## Building the Master Dataframe\n",
    "\n",
    "#To split up the data, we will read and parse each `.pgn` file individually, load the data into a dataframe, and then check to see if the headers and data were processed correctly\n",
    "\n",
    "from collections import defaultdict\n",
    "\n",
    "def read_pgn_all(path, params):\n",
    "    # In contrast to read_pgn_file, this function will read the body of the game and have columns for the first 3 moves\n",
    "    \n",
    "    list_of_rows = []\n",
    "    with open(path, 'r', encoding = 'utf-8', errors = 'ignore') as pgn_file:\n",
    "        #print(path, '\\n')\n",
    "        for game in pgn_file:\n",
    "            curr_game = chess.pgn.read_game(pgn_file)\n",
    "            curr_row = defaultdict(str)\n",
    "            \n",
    "            curr_game\n",
    "            \n",
    "            #print(headers)\n",
    "            for info in params:\n",
    "                #print(info)\n",
    "                try: \n",
    "                    #print(path)\n",
    "                    #print(headers[info])\n",
    "                    #print(headers[info])\n",
    "                    curr_row[info] = curr_game.headers[info]\n",
    "                    #print(curr_row)\n",
    "                except:\n",
    "                    curr_row[info] = None\n",
    "                \n",
    "            list_of_rows.append(curr_row)\n",
    "            \n",
    "        games_df = pd.DataFrame(list_of_rows, columns = params)\n",
    "        pgn_file.close()\n",
    "    \n",
    "    return games_df\n",
    "\n",
    "# okay to use for now, improve on this later"
   ]
  },
  {
   "cell_type": "code",
   "execution_count": null,
   "metadata": {},
   "outputs": [],
   "source": [
    "# Read data\n",
    "import os\n",
    "\n",
    "params = ['Result', 'WhiteElo', 'BlackElo', 'ECO', 'Opening', 'Variation',\n",
    "          'WhiteFideId', 'BlackFideId']\n",
    "\n",
    "list_of_df = []\n",
    "\n",
    "directory = '/Users/weiyutong/Documents/twic_chess_pgn_files/'\n",
    "\n",
    "file_list = os.listdir(directory)\n",
    "\n",
    "for file in file_list:\n",
    "    if file.startswith('twic'):\n",
    "        file_df = read_pgn_file(directory + file, params)\n",
    "        list_of_df.append(file_df)\n",
    "\n",
    "game_data = pd.concat(list_of_df)"
   ]
  },
  {
   "cell_type": "code",
   "execution_count": null,
   "metadata": {},
   "outputs": [],
   "source": [
    "## Cleaning up the Master Dataframe\n",
    "\n",
    "#game_data.drop(columns = 'Event', inplace = True)\n",
    "\n",
    "game_data.dropna(subset = ['Result', 'WhiteElo', 'BlackElo'], inplace = True) # drop all games without Elos or Results \n",
    "\n",
    "#game_data.describe()\n",
    "\n",
    "game_data.groupby('Result').size()\n",
    "\n",
    "game_data = game_data[game_data.Result.isin(['1-0', '0-1', '1/2-1/2'])]\n",
    "\n",
    "game_data = game_data.astype({'WhiteElo':'int64', 'BlackElo':'int64'})\n",
    "#game_data.dtypes"
   ]
  }
 ],
 "metadata": {
  "kernelspec": {
   "display_name": "Python 3",
   "language": "python",
   "name": "python3"
  },
  "language_info": {
   "codemirror_mode": {
    "name": "ipython",
    "version": 3
   },
   "file_extension": ".py",
   "mimetype": "text/x-python",
   "name": "python",
   "nbconvert_exporter": "python",
   "pygments_lexer": "ipython3",
   "version": "3.7.4"
  }
 },
 "nbformat": 4,
 "nbformat_minor": 2
}
